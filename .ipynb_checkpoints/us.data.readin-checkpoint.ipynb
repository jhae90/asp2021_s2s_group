{
 "cells": [
  {
   "cell_type": "code",
   "execution_count": 9,
   "id": "4f156816-e605-4127-a94b-895308465a67",
   "metadata": {},
   "outputs": [],
   "source": [
    "# Read in and process CONUS t2m, gh_500, tp\n",
    "# change\n",
    "import numpy as np\n",
    "import xarray as xr\n",
    "xr.set_options(keep_attrs=True)\n",
    "import climpred\n",
    "from tqdm import tqdm\n",
    "import dask.array as da\n",
    "import matplotlib.pyplot as plt\n",
    "from matplotlib.ticker import FixedLocator\n",
    "import xskillscore as xs\n",
    "import warnings\n",
    "warnings.filterwarnings(\"ignore\")\n",
    "\n",
    "from dask.distributed import Client\n",
    "import dask.config\n",
    "dask.config.set({\"array.slicing.split_large_chunks\": False})\n",
    "\n",
    "client = Client(\"tcp://10.12.206.54:33285\")\n",
    "\n",
    "model = \"OBS\" #OBS, ECMWF, NCEP, or ECCC\n",
    "data = \"anom\" #raw or anom or climatology\n",
    "time = \"daily\" #biweekly or daily\n",
    "\n",
    "data = xr.open_zarr(\"/glade/work/smogen/\"+model+\".\"+data+\".\"+time+\".state.zarr/\", consolidated=True).astype('float32')\n",
    "\n",
    "data\n",
    "\n",
    "# Observational Data\n",
    "hinda = data.chunk({\"time\": -1, \"lat\": 45, \"lon\": 60}).persist() #verif\n",
    "\n",
    "# # Model Data\n",
    "# hinda = data.chunk({\"member\": -1, \"init\": -1, \"lead\": -1,\"lat\":1,\"lon\":1}).persist() # Model Data"
   ]
  }
 ],
 "metadata": {
  "kernelspec": {
   "display_name": "s2s-asp",
   "language": "python",
   "name": "s2s-asp"
  },
  "language_info": {
   "codemirror_mode": {
    "name": "ipython",
    "version": 3
   },
   "file_extension": ".py",
   "mimetype": "text/x-python",
   "name": "python",
   "nbconvert_exporter": "python",
   "pygments_lexer": "ipython3",
   "version": "3.9.5"
  }
 },
 "nbformat": 4,
 "nbformat_minor": 5
}
