{
 "cells": [
  {
   "cell_type": "markdown",
   "id": "7e856e6f-60be-43ec-b81f-7712619e8750",
   "metadata": {},
   "source": [
    "# Read in and process CONUS t2m, gh_500, tp\n"
   ]
  },
  {
   "cell_type": "code",
   "execution_count": null,
   "id": "dfb81cc5-9a3f-4f0a-a3a1-f8a8a855df04",
   "metadata": {},
   "outputs": [],
   "source": [
    "import numpy as np\n",
    "import xarray as xr\n",
    "xr.set_options(keep_attrs=True)\n",
    "import climpred\n",
    "from tqdm import tqdm\n",
    "import dask.array as da\n",
    "import matplotlib.pyplot as plt\n",
    "from matplotlib.ticker import FixedLocator\n",
    "import xskillscore as xs\n",
    "import warnings\n",
    "warnings.filterwarnings(\"ignore\")\n",
    "\n",
    "from dask.distributed import Client\n",
    "import dask.config\n",
    "dask.config.set({\"array.slicing.split_large_chunks\": False})\n"
   ]
  },
  {
   "cell_type": "code",
   "execution_count": 9,
   "id": "4f156816-e605-4127-a94b-895308465a67",
   "metadata": {},
   "outputs": [],
   "source": [
    "client = Client(\"tcp://10.12.206.54:33285\")"
   ]
  },
  {
   "cell_type": "code",
   "execution_count": null,
   "id": "aee1bb89-d5e6-4be3-b5fc-e0a6883ce06a",
   "metadata": {},
   "outputs": [],
   "source": [
    "model = \"OBS\" #OBS, ECMWF, NCEP, or ECCC\n",
    "data = \"anom\" #raw or anom or climatology\n",
    "time = \"daily\" #biweekly or daily"
   ]
  },
  {
   "cell_type": "code",
   "execution_count": null,
   "id": "1dffae6b-05d1-472a-85e8-655278d99a60",
   "metadata": {},
   "outputs": [],
   "source": [
    "data = xr.open_zarr(\"/glade/work/smogen/\"+model+\".\"+data+\".\"+time+\".state.zarr/\", consolidated=True).astype('float32')"
   ]
  },
  {
   "cell_type": "code",
   "execution_count": null,
   "id": "69c2e361-9eec-4c20-9cfd-8a003ec33504",
   "metadata": {},
   "outputs": [],
   "source": [
    "# Observational Data\n",
    "hinda = data.chunk({\"time\": -1, \"lat\": 45, \"lon\": 60}).persist() #verif\n",
    "\n",
    "# # Model Data\n",
    "# hinda = data.chunk({\"member\": -1, \"init\": -1, \"lead\": -1,\"lat\":1,\"lon\":1}).persist() # Model Data"
   ]
  }
 ],
 "metadata": {
  "kernelspec": {
   "display_name": "s2s-asp",
   "language": "python",
   "name": "s2s-asp"
  },
  "language_info": {
   "codemirror_mode": {
    "name": "ipython",
    "version": 3
   },
   "file_extension": ".py",
   "mimetype": "text/x-python",
   "name": "python",
   "nbconvert_exporter": "python",
   "pygments_lexer": "ipython3",
   "version": "3.9.5"
  }
 },
 "nbformat": 4,
 "nbformat_minor": 5
}
