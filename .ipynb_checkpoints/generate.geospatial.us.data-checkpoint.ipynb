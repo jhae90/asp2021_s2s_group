{
 "cells": [
  {
   "cell_type": "markdown",
   "id": "e7c9d189-fa26-46e0-9e5d-fd1714f55ab5",
   "metadata": {},
   "source": [
    "# Mask out the U.S. in each of the pre-processed models\n",
    "\n",
    "---\n",
    "\n",
    "This notebook will create masked data (2D lat/lon) for the U.S. You can run this on any of the files we have created so far.\n",
    "\n",
    "There are other countries/regions available (print 'regions' if you are interested)\n",
    "\n",
    "If you want other regions you can download shapefiles to use. Information on `regionmask` can be found here:\n",
    "https://regionmask.readthedocs.io/en/stable/"
   ]
  },
  {
   "cell_type": "code",
   "execution_count": 1,
   "id": "133020d3-f3b7-4f5a-9b7f-4bf4c834f167",
   "metadata": {},
   "outputs": [
    {
     "data": {
      "text/plain": [
       "<dask.config.set at 0x2b47769e7ca0>"
      ]
     },
     "execution_count": 1,
     "metadata": {},
     "output_type": "execute_result"
    }
   ],
   "source": [
    "import cftime\n",
    "import numpy as np\n",
    "import xarray as xr\n",
    "xr.set_options(keep_attrs=True)\n",
    "import climpred\n",
    "from tqdm import tqdm\n",
    "import dask.array as da\n",
    "import matplotlib.pyplot as plt\n",
    "from matplotlib.ticker import FixedLocator\n",
    "import xskillscore as xs\n",
    "import regionmask\n",
    "import intake_geopandas\n",
    "import intake\n",
    "import warnings\n",
    "warnings.filterwarnings(\"ignore\")\n",
    "\n",
    "from dask.distributed import Client\n",
    "import dask.config\n",
    "dask.config.set({\"array.slicing.split_large_chunks\": False})"
   ]
  },
  {
   "cell_type": "code",
   "execution_count": 2,
   "id": "51eaf040-bd85-4804-bdba-c2cb7dd620f8",
   "metadata": {},
   "outputs": [],
   "source": [
    "client = Client(\"tcp://10.12.206.46:39856\")"
   ]
  },
  {
   "cell_type": "markdown",
   "id": "de0176b7-1321-4757-b18c-fcb431d9019d",
   "metadata": {},
   "source": [
    "Choose your model, data type, and time"
   ]
  },
  {
   "cell_type": "code",
   "execution_count": 23,
   "id": "a104463b-51d8-424d-9d1e-efe07ff259c3",
   "metadata": {},
   "outputs": [],
   "source": [
    "model = \"WACCM\" #OBS, ECMWF, NCEP, or ECCC + CESM1, CESM2, and WACCM\n",
    "time = \"daily\" #biweekly or daily\n",
    "data = \"anom\"\n",
    "lead = \"biweekly\" #biweekly or daily\n",
    "area = \"geospatial\"\n",
    "models = [\"ECMWF\",\"NCEP\",\"ECCC\",\"CESM1\",'CESM2','WACCM'] #this notebook uses all three of these models"
   ]
  },
  {
   "cell_type": "code",
   "execution_count": null,
   "id": "87de5120-32e6-4b6d-8953-8786b35e8804",
   "metadata": {},
   "outputs": [],
   "source": [
    "cat = intake.open_catalog('ASP_data_catalog.yml') # make sure this is the most up to data version!\n",
    "hinda = {}\n",
    "for m in models:\n",
    "    hinda[m] = cat[m](data=data, lead=lead, dim=area).to_dask().astype('float32')\n",
    "\n",
    "hinda = hinda[model]"
   ]
  },
  {
   "cell_type": "code",
   "execution_count": 9,
   "id": "2a088fcc-5b2f-46bf-b484-8ad2cd34b360",
   "metadata": {},
   "outputs": [],
   "source": [
    "hinda = hinda.chunk({\"member\": \"auto\", \"init\": -1, \"lead\": \"auto\", \"lat\": 45, \"lon\": 60}).persist() #hindcast raw & anom\n",
    "# hinda = hinda.chunk({\"time\": -1, \"lat\": 45, \"lon\": 60}).persist() #verif"
   ]
  },
  {
   "cell_type": "markdown",
   "id": "5ee1bebc-7b07-4836-9cdd-96dcaae92baa",
   "metadata": {},
   "source": [
    "Here we are seeing what Countries are available for masking. Just listing them out."
   ]
  },
  {
   "cell_type": "markdown",
   "id": "f6bfccbe-f517-4711-804a-8c220e2f836e",
   "metadata": {},
   "source": [
    "## select the region"
   ]
  },
  {
   "cell_type": "code",
   "execution_count": 15,
   "id": "71f0e62c-af75-4cb9-af56-47d440bff3bf",
   "metadata": {},
   "outputs": [
    {
     "data": {
      "text/plain": [
       "Region: United States of America (UniStaofAme / 153)\n",
       "center: [-99.14444095  39.5280193 ]"
      ]
     },
     "execution_count": 15,
     "metadata": {},
     "output_type": "execute_result"
    }
   ],
   "source": [
    "cat = intake.open_catalog('https://raw.githubusercontent.com/aaronspring/remote_climate_data/master/master.yaml')\n",
    "region = cat.regionmask.Countries.read()\n",
    "region[\"United States of America\"]"
   ]
  },
  {
   "cell_type": "markdown",
   "id": "9e458363-a7a2-4022-babd-2a368889cd2c",
   "metadata": {},
   "source": [
    "## Running the region mask over the data!"
   ]
  },
  {
   "cell_type": "code",
   "execution_count": 16,
   "id": "5c2ba1e7-20d2-4b29-a5d5-597b9cc59cba",
   "metadata": {},
   "outputs": [],
   "source": [
    "mask = region.mask(hinda, lon_name='lon',lat_name='lat')"
   ]
  },
  {
   "cell_type": "code",
   "execution_count": 17,
   "id": "c18eade3-447f-4266-a7e4-6acf33572549",
   "metadata": {},
   "outputs": [],
   "source": [
    "var = hinda.where(mask==153)"
   ]
  },
  {
   "cell_type": "code",
   "execution_count": 18,
   "id": "7dc00fcb-3bd1-4e68-9c40-927dad517424",
   "metadata": {},
   "outputs": [],
   "source": [
    "# slice data to get ride of NaNs (dataset will be smaller)\n",
    "var = var.isel(lat=slice(27,45),lon=slice(155,200))"
   ]
  },
  {
   "cell_type": "code",
   "execution_count": 19,
   "id": "3c0d778a-bfc5-422a-8e24-da14e8800dfb",
   "metadata": {},
   "outputs": [
    {
     "name": "stdout",
     "output_type": "stream",
     "text": [
      "CPU times: user 275 ms, sys: 16.9 ms, total: 292 ms\n",
      "Wall time: 299 ms\n"
     ]
    }
   ],
   "source": [
    "%time var = var.chunk({\"member\": -1, \"init\": -1, \"lead\": -1,\"lat\":1,\"lon\":1}).persist() #hindcast\n",
    "\n",
    "# %time var = var.chunk({\"time\": -1, 'lat':1,'lon':1}).persist() # verif data (Sam)"
   ]
  },
  {
   "cell_type": "markdown",
   "id": "353687d3-11cc-44f2-ab77-fa3f38772ded",
   "metadata": {},
   "source": [
    "# Write out to zarr!\n",
    "\n",
    "Or even netcdf if you want. The data is small enough"
   ]
  },
  {
   "cell_type": "code",
   "execution_count": 24,
   "id": "6dd71e11-76da-43af-af20-d18db4b50ebf",
   "metadata": {},
   "outputs": [
    {
     "name": "stdout",
     "output_type": "stream",
     "text": [
      "CPU times: user 386 ms, sys: 11 ms, total: 397 ms\n",
      "Wall time: 11.8 s\n"
     ]
    },
    {
     "data": {
      "text/plain": [
       "<xarray.backends.zarr.ZarrStore at 0x2b47bf82a820>"
      ]
     },
     "execution_count": 24,
     "metadata": {},
     "output_type": "execute_result"
    }
   ],
   "source": [
    "%time var.to_zarr(\"/glade/work/smogen/\"+model+\".\"+data+\".\"+time+\".state.zarr/\",mode=\"w\",consolidated=True)"
   ]
  },
  {
   "cell_type": "markdown",
   "id": "a0de1e46-1bc6-48d5-bec4-c2b6d82306c7",
   "metadata": {},
   "source": [
    "## read in data to test!"
   ]
  },
  {
   "cell_type": "code",
   "execution_count": 25,
   "id": "988f4b01-c006-4e2c-bb10-abf3d1e4968f",
   "metadata": {},
   "outputs": [
    {
     "data": {
      "text/plain": [
       "<matplotlib.collections.QuadMesh at 0x2b47dc1aa040>"
      ]
     },
     "execution_count": 25,
     "metadata": {},
     "output_type": "execute_result"
    },
    {
     "data": {
      "image/png": "[encoded data removed]",
      "text/plain": [
       "<Figure size 432x288 with 2 Axes>"
      ]
     },
     "metadata": {
      "needs_background": "light"
     },
     "output_type": "display_data"
    }
   ],
   "source": [
    "test = xr.open_zarr(\"/glade/work/smogen/\"+model+\".\"+data+\".\"+time+\".state.zarr/\", consolidated=True).astype('float32')\n",
    "\n",
    "tmp = test.chunk({\"member\": -1, \"init\": -1, \"lead\": -1,\"lat\":1,\"lon\":1}).persist()\n",
    "\n",
    "tmp.t2m.mean(dim=('member','init','lead')).plot()"
   ]
  }
 ],
 "metadata": {
  "kernelspec": {
   "display_name": "s2s-asp",
   "language": "python",
   "name": "s2s-asp"
  },
  "language_info": {
   "codemirror_mode": {
    "name": "ipython",
    "version": 3
   },
   "file_extension": ".py",
   "mimetype": "text/x-python",
   "name": "python",
   "nbconvert_exporter": "python",
   "pygments_lexer": "ipython3",
   "version": "3.9.5"
  }
 },
 "nbformat": 4,
 "nbformat_minor": 5
}
